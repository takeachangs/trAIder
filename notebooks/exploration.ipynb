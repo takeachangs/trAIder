{
 "cells": [
  {
   "cell_type": "markdown",
   "metadata": {},
   "source": [
    "# trAIder - Trading Analysis Exploration\n",
    "\n",
    "This notebook is used for prototyping and exploring trading strategies.\n",
    "\n",
    "## Setup"
   ]
  },
  {
   "cell_type": "code",
   "execution_count": null,
   "metadata": {},
   "outputs": [],
   "source": [
    "import sys\n",
    "import os\n",
    "sys.path.append('..')\n",
    "\n",
    "import pandas as pd\n",
    "import numpy as np\n",
    "import matplotlib.pyplot as plt\n",
    "import plotly.graph_objects as go\n",
    "from datetime import datetime, timedelta\n",
    "\n",
    "from src.data.data_fetcher import DataFetcher\n",
    "from src.data.data_preprocessing import DataPreprocessor\n",
    "from src.indicators.rsi import RSI\n",
    "from src.indicators.macd import MACD\n",
    "from src.indicators.cusum import CUSUM\n",
    "from src.analysis.analysis_engine import AnalysisEngine\n",
    "\n",
    "%matplotlib inline\n",
    "plt.style.use('dark_background')"
   ]
  },
  {
   "cell_type": "markdown",
   "metadata": {},
   "source": [
    "## Data Loading and Preprocessing"
   ]
  },
  {
   "cell_type": "code",
   "execution_count": null,
   "metadata": {},
   "outputs": [],
   "source": [
    "# Initialize components\n",
    "data_fetcher = DataFetcher()\n",
    "preprocessor = DataPreprocessor()\n",
    "\n",
    "# Fetch historical data\n",
    "symbol = 'BTCUSDT'\n",
    "interval = '1h'\n",
    "start_time = datetime.now() - timedelta(days=30)\n",
    "\n",
    "data = data_fetcher.fetch_historical_data(\n",
    "    symbol=symbol,\n",
    "    start_time=start_time,\n",
    "    interval=interval\n",
    ")\n",
    "\n",
    "# Preprocess data\n",
    "data = preprocessor.clean_data(data)\n",
    "data = preprocessor.engineer_features(data)\n",
    "\n",
    "print(f\"Loaded {len(data)} data points\")\n",
    "data.head()"
   ]
  },
  {
   "cell_type": "markdown",
   "metadata": {},
   "source": [
    "## Technical Analysis"
   ]
  },
  {
   "cell_type": "code",
   "execution_count": null,
   "metadata": {},
   "outputs": [],
   "source": [
    "# Initialize analysis engine\n",
    "engine = AnalysisEngine()\n",
    "\n",
    "# Add indicators\n",
    "engine.add_indicator(RSI())\n",
    "engine.add_indicator(MACD())\n",
    "engine.add_indicator(CUSUM())\n",
    "\n",
    "# Run analysis\n",
    "analyzed_data = engine.analyze(data)\n",
    "\n",
    "# Display indicator values\n",
    "analyzed_data[['close', 'rsi', 'macd_line', 'signal_line', 'macd_histogram']].tail()"
   ]
  },
  {
   "cell_type": "markdown",
   "metadata": {},
   "source": [
    "## Visualization"
   ]
  },
  {
   "cell_type": "code",
   "execution_count": null,
   "metadata": {},
   "outputs": [],
   "source": [
    "# Create candlestick chart\n",
    "fig = go.Figure()\n",
    "\n",
    "# Add candlestick\n",
    "fig.add_trace(\n",
    "    go.Candlestick(\n",
    "        x=analyzed_data.index,\n",
    "        open=analyzed_data['open'],\n",
    "        high=analyzed_data['high'],\n",
    "        low=analyzed_data['low'],\n",
    "        close=analyzed_data['close'],\n",
    "        name='OHLC'\n",
    "    )\n",
    ")\n",
    "\n",
    "# Update layout\n",
    "fig.update_layout(\n",
    "    title=f'{symbol} Price',\n",
    "    yaxis_title='Price',\n",
    "    template='plotly_dark'\n",
    ")\n",
    "\n",
    "fig.show()"
   ]
  },
  {
   "cell_type": "markdown",
   "metadata": {},
   "source": [
    "## Signal Analysis"
   ]
  },
  {
   "cell_type": "code",
   "execution_count": null,
   "metadata": {},
   "outputs": [],
   "source": [
    "# Analyze signals\n",
    "signals = analyzed_data[analyzed_data['composite_signal'] != 0]\n",
    "\n",
    "print(\"Signal Distribution:\")\n",
    "print(analyzed_data['composite_signal'].value_counts())\n",
    "print(\"\\nSignal Timestamps:\")\n",
    "print(signals[['close', 'composite_signal', 'rsi', 'macd_line']].tail())"
   ]
  },
  {
   "cell_type": "markdown",
   "metadata": {},
   "source": [
    "## Performance Analysis"
   ]
  },
  {
   "cell_type": "code",
   "execution_count": null,
   "metadata": {},
   "outputs": [],
   "source": [
    "# Simple performance simulation\n",
    "position = 0\n",
    "entry_price = 0\n",
    "trades = []\n",
    "\n",
    "for i in range(1, len(analyzed_data)):\n",
    "    current_row = analyzed_data.iloc[i]\n",
    "    signal = current_row['composite_signal']\n",
    "    \n",
    "    if position == 0 and signal != 0:\n",
    "        position = signal\n",
    "        entry_price = current_row['close']\n",
    "    elif position != 0 and signal == -position:\n",
    "        pnl = position * (current_row['close'] - entry_price)\n",
    "        trades.append({\n",
    "            'entry_price': entry_price,\n",
    "            'exit_price': current_row['close'],\n",
    "            'pnl': pnl,\n",
    "            'return': pnl / entry_price\n",
    "        })\n",
    "        position = 0\n",
    "\n",
    "# Calculate performance metrics\n",
    "if trades:\n",
    "    returns = [t['return'] for t in trades]\n",
    "    print(f\"Number of trades: {len(trades)}\")\n",
    "    print(f\"Average return: {np.mean(returns):.2%}\")\n",
    "    print(f\"Win rate: {len([r for r in returns if r > 0]) / len(returns):.2%}\")\n",
    "    print(f\"Sharpe ratio: {np.mean(returns) / np.std(returns) * np.sqrt(252):.2f}\")"
   ]
  }
 ],
 "metadata": {
  "kernelspec": {
   "display_name": "Python 3",
   "language": "python",
   "name": "python3"
  },
  "language_info": {
   "codemirror_mode": {
    "name": "ipython",
    "version": 3
   },
   "file_extension": ".py",
   "mimetype": "text/x-python",
   "name": "python",
   "nbconvert_exporter": "python",
   "pygments_lexer": "ipython3",
   "version": "3.8.0"
  }
 },
 "nbformat": 4,
 "nbformat_minor": 4
}